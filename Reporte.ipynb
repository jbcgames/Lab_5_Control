{
 "cells": [
  {
   "cell_type": "markdown",
   "id": "56061b1a",
   "metadata": {},
   "source": [
    "# Laboratorio de Control Térmico - TempLABUdeA\n",
    "## Modelado del Sistema - Fase 1"
   ]
  },
  {
   "cell_type": "code",
   "execution_count": 1,
   "id": "456bb931",
   "metadata": {},
   "outputs": [
    {
     "name": "stdout",
     "output_type": "stream",
     "text": [
      "Modelo FOPDT identificado:\n",
      "G(s) = 0.3593 * exp(-10.3349 * s) / (171.7428 * s + 1)\n"
     ]
    }
   ],
   "source": [
    "\n",
    "# Parámetros identificados\n",
    "Kp = 0.3593          # Ganancia del proceso\n",
    "tm = 10.3349         # Tiempo muerto (s)\n",
    "tau = 171.7428       # Constante de tiempo (s)\n",
    "\n",
    "print(f\"Modelo FOPDT identificado:\")\n",
    "print(f\"G(s) = {Kp} * exp(-{tm} * s) / ({tau} * s + 1)\")"
   ]
  },
  {
   "cell_type": "markdown",
   "id": "2a71c06f",
   "metadata": {},
   "source": [
    "## Sintonía P-only (ITAE)"
   ]
  },
  {
   "cell_type": "code",
   "execution_count": 2,
   "id": "b48f4de5",
   "metadata": {},
   "outputs": [
    {
     "data": {
      "text/latex": [
       "$\\displaystyle \\frac{0.3593 e^{- 10.3349 s}}{171.7428 s + 1}$"
      ],
      "text/plain": [
       "0.3593*exp(-10.3349*s)/(171.7428*s + 1)"
      ]
     },
     "execution_count": 2,
     "metadata": {},
     "output_type": "execute_result"
    }
   ],
   "source": [
    "import sympy as sp\n",
    "\n",
    "s = sp.symbols('s')\n",
    "Kp_val = 0.3593\n",
    "tm_val = 10.3349\n",
    "tau_val = 171.7428\n",
    "\n",
    "# Modelo simbólico\n",
    "G_s = Kp_val * sp.exp(-tm_val * s) / (tau_val * s + 1)\n",
    "G_s.simplify()"
   ]
  },
  {
   "cell_type": "markdown",
   "id": "98086633",
   "metadata": {},
   "source": [
    "\n",
    "### Interpretación:\n",
    "El modelo FOPDT describe el comportamiento dinámico de la temperatura frente a cambios en la potencia de calefacción con:\n",
    "- Una **ganancia de proceso** $ K_p = 0.3593 $\n",
    "- Un **tiempo muerto** $ \\theta_p = 10.33\\,s $\n",
    "- Una **constante de tiempo** $\\tau_p = 171.74\\,s $\n",
    "\n",
    "Este modelo será utilizado para diseñar el controlador PID en la siguiente fase.\n",
    "## Diseño de PID mediante Ziegler-Nichols - Fase 2\n",
    "- Encontrando parametros del PID\n",
    "- $ K_C =(1.2 * \\tau_p) / (K_p * \\theta_p) $   \n",
    "- $ Ti = 2 * \\theta_p $\n",
    "- $ Td = 0.5 * \\theta_p $"
   ]
  },
  {
   "cell_type": "code",
   "execution_count": 6,
   "id": "f3e526b4",
   "metadata": {},
   "outputs": [
    {
     "name": "stdout",
     "output_type": "stream",
     "text": [
      "Parámetros del controlador PID calculados:\n",
      "Kc = 55.5004\n",
      "Ti = 20.6698 s\n",
      "Td = 5.1674 s\n"
     ]
    }
   ],
   "source": [
    "Kc = (1.2 * tau_val) / (Kp_val * tm)\n",
    "Ti = 2 * tm\n",
    "Td = 0.5 * tm\n",
    "print(\"Parámetros del controlador PID calculados:\")\n",
    "print(f\"Kc = {Kc:.4f}\")\n",
    "print(f\"Ti = {Ti:.4f} s\")\n",
    "print(f\"Td = {Td:.4f} s\")\n"
   ]
  },
  {
   "cell_type": "markdown",
   "id": "adecaad9",
   "metadata": {},
   "source": [
    "### Implementacion  de simulacion"
   ]
  },
  {
   "cell_type": "markdown",
   "id": "e4bb6902",
   "metadata": {},
   "source": [
    "![Simulacio.png](https://raw.githubusercontent.com/jbcgames/Lab_5_Control/refs/heads/main/Simulacio.png)\n",
    "![Resultados.png](https://raw.githubusercontent.com/jbcgames/Lab_5_Control/refs/heads/main/Resultados.png)\n",
    "\n",
    "- Periodo $P_u = 37.859s$\n",
    "- $K_p= 104$\n",
    "\n",
    "- $K_p =0,6K_u$\n",
    "- $T_i = 0,5P_u$,\n",
    "- $T_d = 0,125P_u$"
   ]
  },
  {
   "cell_type": "code",
   "execution_count": 8,
   "id": "f93e4d57",
   "metadata": {},
   "outputs": [
    {
     "name": "stdout",
     "output_type": "stream",
     "text": [
      "Parámetros del controlador PID calculados:\n",
      "Kc = 62.4000\n",
      "Ti = 18.9295 s\n",
      "Td = 4.7324 s\n"
     ]
    }
   ],
   "source": [
    "Kp=104\n",
    "Pu=37.859\n",
    "Ku=Kp*0.6\n",
    "Ti=0.5*Pu\n",
    "Td=0.125*Pu\n",
    "print(\"Parámetros del controlador PID calculados:\") \n",
    "print(f\"Kc = {Ku:.4f}\")\n",
    "print(f\"Ti = {Ti:.4f} s\")\n",
    "print(f\"Td = {Td:.4f} s\")\n"
   ]
  },
  {
   "cell_type": "markdown",
   "id": "60e296bf",
   "metadata": {},
   "source": [
    "### Implementacion del sistema\n",
    "\n",
    "$$ \n",
    "P=K_c\n",
    "\n",
    " $$\n",
    "  $$\n",
    "  I=K_c/T_i\n",
    "\n",
    " $$\n",
    "  $$\n",
    "  D=K_c*T_d\n",
    " $$"
   ]
  },
  {
   "cell_type": "code",
   "execution_count": 9,
   "id": "eb5948d4",
   "metadata": {},
   "outputs": [
    {
     "name": "stdout",
     "output_type": "stream",
     "text": [
      "Parámetros del controlador PID calculados:\n",
      "Kp = 55.5004\n",
      "Ki = 2.9320\n",
      "Kd = 262.6488\n"
     ]
    }
   ],
   "source": [
    "P=Kc\n",
    "I=Kc/Ti\n",
    "D=Kc*Td\n",
    "print(\"Parámetros del controlador PID calculados:\") \n",
    "print(f\"Kp = {P:.4f}\")\n",
    "print(f\"Ki = {I:.4f}\")\n",
    "print(f\"Kd = {D:.4f}\")"
   ]
  },
  {
   "cell_type": "markdown",
   "id": "737b4d28",
   "metadata": {},
   "source": [
    "![Sistema.png](https://raw.githubusercontent.com/jbcgames/Lab_5_Control/refs/heads/main/Sistema.png)\n",
    "\n",
    "### Resultado sistema estabilizado\n",
    "![Resultado.png](https://raw.githubusercontent.com/jbcgames/Lab_5_Control/refs/heads/main/Resultado.png)"
   ]
  },
  {
   "cell_type": "markdown",
   "id": "2d661269",
   "metadata": {},
   "source": [
    "## Etapa 3 Implementeacion Practica\n",
    "\n",
    "### Script Python"
   ]
  },
  {
   "cell_type": "code",
   "execution_count": null,
   "id": "27c41a51",
   "metadata": {},
   "outputs": [],
   "source": [
    "\"\"\"\n",
    "Prueba de escalón con registro de datos en Python\n",
    "Adaptado y documentado para el Laboratorio de Control de Temperatura (TempLabUdeA)\n",
    "Universidad de Antioquia - Sistemas de Control\n",
    "\"\"\"\n",
    "! pip install tclab numpy matplotlib pandas datetime\n",
    "import tclab \n",
    "import numpy as np\n",
    "import time\n",
    "import matplotlib.pyplot as plt\n",
    "import pandas as pd\n",
    "from datetime import datetime\n",
    "\n",
    "\n",
    "# ------------------------------------------------------------------------------\n",
    "lab = tclab.TCLab()\n",
    "# Parámetros de control\n",
    "Kc = 62.4\n",
    "tauI = 18.9295\n",
    "tauD = 4.7324\n",
    "Q_bias = 0.0\n",
    "ierr = 0.0\n",
    "prev_err = 0.0\n",
    "\n",
    "# Inicializar listas (suponiendo que n ya está definido)\n",
    "n=600\n",
    "T1 = [0.0] * n\n",
    "T2 = [0.0] * n\n",
    "Q1 = [0.0] * n\n",
    "SP1 = [60.0] * n  # Por ejemplo, setpoint constante de 50\n",
    "\n",
    "plt.ion()  # Activar modo interactivo\n",
    "try:\n",
    "    for i in range(n):\n",
    "    # Leer temperatura actual\n",
    "        T1[i] = lab.T1\n",
    "        T2[i] = lab.T2\n",
    "\n",
    "        # Cálculo del error\n",
    "        err = SP1[i] - T1[i]\n",
    "\n",
    "        # Término integral\n",
    "        ierr += err\n",
    "\n",
    "        # Término derivativo\n",
    "        deriv = err - prev_err\n",
    "        prev_err = err\n",
    "\n",
    "        # Acción de control PID\n",
    "        Q1[i] = Q_bias + Kc * err + (Kc / tauI) * ierr + Kc * tauD * deriv\n",
    "\n",
    "        # Anti-windup\n",
    "        if Q1[i] >= 100:\n",
    "            print(Q1[i])\n",
    "            Q1[i] = 100\n",
    "            ierr -= err\n",
    "        elif Q1[i] <= 0:\n",
    "            Q1[i] = 0\n",
    "            ierr -= err\n",
    "\n",
    "        # Aplicar señal de control\n",
    "        if (i>10):\n",
    "            lab.Q1(Q1[i])\n",
    "        if (i<10):\n",
    "            Q1=[0.0] * n\n",
    "        # Gráfica de temperatura\n",
    "        plt.clf()\n",
    "        plt.subplot(2, 1, 1)\n",
    "        plt.plot(T1[:i+1], 'r-o', label='T1')\n",
    "        plt.plot(T2[:i+1], 'b-o', label='T2')\n",
    "        plt.ylabel('Temperatura (°C)')\n",
    "        plt.title('Temperatura')\n",
    "        plt.grid(True)\n",
    "        plt.legend()\n",
    "\n",
    "        # Gráfica de PWM (Q1)\n",
    "        plt.subplot(2, 1, 2)\n",
    "        plt.plot(Q1[:i+1], 'b-', label='Q1 (PWM)')\n",
    "        plt.ylabel('PWM (%)')\n",
    "        plt.title('Señal de control Q1')\n",
    "        plt.xlabel('Tiempo (s)')\n",
    "        plt.grid(True)\n",
    "        plt.legend()\n",
    "\n",
    "        plt.pause(0.05)  # Pequeña pausa para actualizar la gráfica\n",
    "        time.sleep(1)\n",
    "except KeyboardInterrupt:\n",
    "    # En caso de interrupción, apagar y cerrar conexión\n",
    "    print(\"\\nDetención por usuario. Apagando calentadores y cerrando conexión.\")\n",
    "    lab.Q1(0)\n",
    "    lab.Q2(0)\n",
    "    lab.close()\n",
    "    plt.savefig('resultado_prueba.png')\n",
    "    \n",
    "plt.show()\n",
    "t = np.arange(n)\n",
    "\n",
    "# Crear DataFrame\n",
    "df = pd.DataFrame({\n",
    "    'Tiempo (s)': t,\n",
    "    'Setpoint (SP)': SP1,\n",
    "    'Temperatura (T)': T1,\n",
    "    'Control PWM (Q)': Q1\n",
    "})\n",
    "\n",
    "# Generar timestamp para los archivos\n",
    "timestamp = datetime.now().strftime(\"%Y-%m-%d_%H-%M-%S\")\n",
    "\n",
    "# Guardar datos en CSV\n",
    "csv_filename = f'registro_PID_TempLab_{timestamp}.csv'\n",
    "df.to_csv(csv_filename, index=False)\n",
    "print(f\"Datos guardados en '{csv_filename}'\")\n",
    "\n",
    "# Volver a graficar la última figura para guardarla como imagen\n",
    "plt.figure(figsize=(10,6))\n",
    "\n",
    "# Temperatura\n",
    "plt.subplot(2, 1, 1)\n",
    "plt.plot(t, T1, 'r-o', label='T1')\n",
    "plt.plot(t, SP1, 'k--', label='SP')\n",
    "plt.ylabel('Temperatura (°C)')\n",
    "plt.title('Temperatura T1 vs Setpoint')\n",
    "plt.grid(True)\n",
    "plt.legend()\n",
    "\n",
    "# PWM\n",
    "plt.subplot(2, 1, 2)\n",
    "plt.plot(t, Q1, 'b-', label='Q1 (PWM)')\n",
    "plt.ylabel('PWM (%)')\n",
    "plt.xlabel('Tiempo (s)')\n",
    "plt.title('Señal de control Q1')\n",
    "plt.grid(True)\n",
    "plt.legend()\n",
    "\n",
    "# Guardar imagen\n",
    "image_filename = f'grafico_PID_TempLab_{timestamp}.png'\n",
    "plt.tight_layout()\n",
    "plt.savefig(image_filename)\n",
    "print(f\"Gráfica guardada en '{image_filename}'\")\n",
    "\n",
    "plt.show()\n"
   ]
  },
  {
   "cell_type": "markdown",
   "id": "3ddfebfb",
   "metadata": {},
   "source": [
    "### Respuesta ITAE\n",
    "![image.png](https://github.com/jbcgames/Lab_5_Control/blob/main/Resultados%20Q1/grafico_PID_TempLab_2025-05-15_17-34-50.png?raw=true)\n",
    "\n",
    "### Respuesta Zigler Nichols\n",
    "![image.png](https://github.com/jbcgames/Lab_5_Control/blob/main/Resultados%20Q2/grafico_PID_TempLab_2025-05-15_16-44-19.png?raw=true)\n",
    "\n",
    "## Etapa 4 Validacion y Analisis\n",
    "\n",
    "### Script de analisis de datos:\n"
   ]
  },
  {
   "cell_type": "code",
   "execution_count": 16,
   "id": "0e14d171",
   "metadata": {},
   "outputs": [
    {
     "name": "stdout",
     "output_type": "stream",
     "text": [
      "Resultados de la respuesta del sistema con ITAE:\n",
      "Sobreimpulso (%): 2.07\n",
      "Tiempo de asentamiento (s): 153.00\n",
      "Error en estado estacionario (°C): 0.31\n",
      " \n",
      "Resultados de la respuesta del sistema con Ziegler-Nichols:\n",
      "Sobreimpulso (%): 1.58\n",
      "Tiempo de asentamiento (s): 171.00\n",
      "Error en estado estacionario (°C): 0.06\n"
     ]
    }
   ],
   "source": [
    "import pandas as pd\n",
    "\n",
    "def analizar_respuesta_sistema(nombre_archivo_csv, tolerancia=0.05):\n",
    "    # Leer el archivo\n",
    "    df = pd.read_csv(nombre_archivo_csv)\n",
    "    \n",
    "    tiempo = df[\"Tiempo (s)\"]\n",
    "    sp = df[\"Setpoint (SP)\"]\n",
    "    temp = df[\"Temperatura (T)\"]\n",
    "    \n",
    "    setpoint = sp.iloc[0]  # asumimos que es constante\n",
    "\n",
    "    # Calcular sobreimpulso\n",
    "    temp_max = temp.max()\n",
    "    overshoot = max(0, ((temp_max - setpoint) / setpoint) * 100)  # en %\n",
    "\n",
    "    # Calcular error de estado estacionario (últimos 50 valores)\n",
    "    e_ss = abs(setpoint - temp.tail(50).mean())\n",
    "\n",
    "    # Calcular tiempo de asentamiento (dentro del ±5% del setpoint)\n",
    "    margen_superior = setpoint * (1 + tolerancia)\n",
    "    margen_inferior = setpoint * (1 - tolerancia)\n",
    "\n",
    "    dentro_margen = (temp >= margen_inferior) & (temp <= margen_superior)\n",
    "    for i in range(len(temp) - 1, -1, -1):\n",
    "        if not dentro_margen.iloc[i]:\n",
    "            settling_time = tiempo.iloc[i + 1] if (i + 1) < len(tiempo) else tiempo.iloc[-1]\n",
    "            break\n",
    "    else:\n",
    "        settling_time = tiempo.iloc[0]  # si nunca sale de la banda\n",
    "\n",
    "    # Resultados\n",
    "    \n",
    "    print(f\"Sobreimpulso (%): {overshoot:.2f}\")\n",
    "    print(f\"Tiempo de asentamiento (s): {settling_time:.2f}\")\n",
    "    print(f\"Error en estado estacionario (°C): {e_ss:.2f}\")\n",
    "    \n",
    "print(\"Resultados de la respuesta del sistema con ITAE:\")\n",
    "analizar_respuesta_sistema('https://raw.githubusercontent.com/jbcgames/Lab_5_Control/main/Resultados%20Q1/registro_PID_TempLab_2025-05-15_17-34-50.csv')\n",
    "print(\" \")\n",
    "print(\"Resultados de la respuesta del sistema con Ziegler-Nichols:\")\n",
    "analizar_respuesta_sistema('https://raw.githubusercontent.com/jbcgames/Lab_5_Control/main/Resultados%20Q2/registro_PID_TempLab_2025-05-15_16-44-19.csv')"
   ]
  },
  {
   "cell_type": "markdown",
   "id": "b149f403",
   "metadata": {},
   "source": [
    "### Comparacion Simulacion practica\n",
    "- ITAE\n"
   ]
  }
 ],
 "metadata": {
  "kernelspec": {
   "display_name": "Python 3",
   "language": "python",
   "name": "python3"
  },
  "language_info": {
   "codemirror_mode": {
    "name": "ipython",
    "version": 3
   },
   "file_extension": ".py",
   "mimetype": "text/x-python",
   "name": "python",
   "nbconvert_exporter": "python",
   "pygments_lexer": "ipython3",
   "version": "3.13.3"
  }
 },
 "nbformat": 4,
 "nbformat_minor": 5
}
