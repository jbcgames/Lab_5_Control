{
 "cells": [
  {
   "cell_type": "markdown",
   "id": "56061b1a",
   "metadata": {},
   "source": [
    "# Laboratorio de Control Térmico - TempLABUdeA\n",
    "## Modelado del Sistema - Fase 1"
   ]
  },
  {
   "cell_type": "code",
   "execution_count": 1,
   "id": "456bb931",
   "metadata": {},
   "outputs": [
    {
     "name": "stdout",
     "output_type": "stream",
     "text": [
      "Modelo FOPDT identificado:\n",
      "G(s) = 0.3593 * exp(-10.3349 * s) / (171.7428 * s + 1)\n"
     ]
    }
   ],
   "source": [
    "\n",
    "# Parámetros identificados\n",
    "Kp = 0.3593          # Ganancia del proceso\n",
    "tm = 10.3349         # Tiempo muerto (s)\n",
    "tau = 171.7428       # Constante de tiempo (s)\n",
    "\n",
    "print(f\"Modelo FOPDT identificado:\")\n",
    "print(f\"G(s) = {Kp} * exp(-{tm} * s) / ({tau} * s + 1)\")"
   ]
  },
  {
   "cell_type": "markdown",
   "id": "2a71c06f",
   "metadata": {},
   "source": [
    "## Función de Transferencia Simbólica"
   ]
  },
  {
   "cell_type": "code",
   "execution_count": 2,
   "id": "b48f4de5",
   "metadata": {},
   "outputs": [
    {
     "data": {
      "text/latex": [
       "$\\displaystyle \\frac{0.3593 e^{- 10.3349 s}}{171.7428 s + 1}$"
      ],
      "text/plain": [
       "0.3593*exp(-10.3349*s)/(171.7428*s + 1)"
      ]
     },
     "execution_count": 2,
     "metadata": {},
     "output_type": "execute_result"
    }
   ],
   "source": [
    "import sympy as sp\n",
    "\n",
    "s = sp.symbols('s')\n",
    "Kp_val = 0.3593\n",
    "tm_val = 10.3349\n",
    "tau_val = 171.7428\n",
    "\n",
    "# Modelo simbólico\n",
    "G_s = Kp_val * sp.exp(-tm_val * s) / (tau_val * s + 1)\n",
    "G_s.simplify()"
   ]
  },
  {
   "cell_type": "markdown",
   "id": "98086633",
   "metadata": {},
   "source": [
    "\n",
    "### Interpretación:\n",
    "El modelo FOPDT describe el comportamiento dinámico de la temperatura frente a cambios en la potencia de calefacción con:\n",
    "- Una **ganancia de proceso** $ K_p = 0.3593 $\n",
    "- Un **tiempo muerto** $ \\theta_p = 10.33\\,s $\n",
    "- Una **constante de tiempo** $\\tau_p = 171.74\\,s $\n",
    "\n",
    "Este modelo será utilizado para diseñar el controlador PID en la siguiente fase.\n",
    "## Diseño de PID mediante Ziegler-Nichols - Fase 2\n",
    "- Encontrando parametros del PID\n",
    "- $ K_C =(1.2 * \\tau_p) / (K_p * \\theta_p) $   \n",
    "- $ Ti = 2 * \\theta_p $\n",
    "- $ Td = 0.5 * \\theta_p $"
   ]
  },
  {
   "cell_type": "code",
   "execution_count": 6,
   "id": "f3e526b4",
   "metadata": {},
   "outputs": [
    {
     "name": "stdout",
     "output_type": "stream",
     "text": [
      "Parámetros del controlador PID calculados:\n",
      "Kc = 55.5004\n",
      "Ti = 20.6698 s\n",
      "Td = 5.1674 s\n"
     ]
    }
   ],
   "source": [
    "Kc = (1.2 * tau_val) / (Kp_val * tm)\n",
    "Ti = 2 * tm\n",
    "Td = 0.5 * tm\n",
    "print(\"Parámetros del controlador PID calculados:\")\n",
    "print(f\"Kc = {Kc:.4f}\")\n",
    "print(f\"Ti = {Ti:.4f} s\")\n",
    "print(f\"Td = {Td:.4f} s\")\n"
   ]
  },
  {
   "cell_type": "markdown",
   "id": "adecaad9",
   "metadata": {},
   "source": [
    "### Implementacion  de simulacion"
   ]
  },
  {
   "cell_type": "markdown",
   "id": "e4bb6902",
   "metadata": {},
   "source": [
    "![Simulacio.png](https://raw.githubusercontent.com/jbcgames/Lab_5_Control/refs/heads/main/Simulacio.png)\n",
    "![Resultados.png](https://raw.githubusercontent.com/jbcgames/Lab_5_Control/refs/heads/main/Resultados.png)\n",
    "\n",
    "- Periodo $P_u = 37.859s$\n",
    "- $K_p= 104$\n",
    "\n",
    "- $K_p =0,6K_u$\n",
    "- $T_i = 0,5P_u$,\n",
    "- $T_d = 0,125P_u$"
   ]
  },
  {
   "cell_type": "code",
   "execution_count": 8,
   "id": "f93e4d57",
   "metadata": {},
   "outputs": [
    {
     "name": "stdout",
     "output_type": "stream",
     "text": [
      "Parámetros del controlador PID calculados:\n",
      "Kc = 62.4000\n",
      "Ti = 18.9295 s\n",
      "Td = 4.7324 s\n"
     ]
    }
   ],
   "source": [
    "Kp=104\n",
    "Pu=37.859\n",
    "Ku=Kp*0.6\n",
    "Ti=0.5*Pu\n",
    "Td=0.125*Pu\n",
    "print(\"Parámetros del controlador PID calculados:\") \n",
    "print(f\"Kc = {Ku:.4f}\")\n",
    "print(f\"Ti = {Ti:.4f} s\")\n",
    "print(f\"Td = {Td:.4f} s\")\n"
   ]
  },
  {
   "cell_type": "markdown",
   "id": "60e296bf",
   "metadata": {},
   "source": [
    "### Implementacion del sistema\n",
    "\n",
    "$$ \n",
    "P=K_c\n",
    "\n",
    " $$\n",
    "  $$\n",
    "  I=K_c/T_i\n",
    "\n",
    " $$\n",
    "  $$\n",
    "  D=K_c*T_d\n",
    " $$"
   ]
  },
  {
   "cell_type": "code",
   "execution_count": 9,
   "id": "eb5948d4",
   "metadata": {},
   "outputs": [
    {
     "name": "stdout",
     "output_type": "stream",
     "text": [
      "Parámetros del controlador PID calculados:\n",
      "Kp = 55.5004\n",
      "Ki = 2.9320\n",
      "Kd = 262.6488\n"
     ]
    }
   ],
   "source": [
    "P=Kc\n",
    "I=Kc/Ti\n",
    "D=Kc*Td\n",
    "print(\"Parámetros del controlador PID calculados:\") \n",
    "print(f\"Kp = {P:.4f}\")\n",
    "print(f\"Ki = {I:.4f}\")\n",
    "print(f\"Kd = {D:.4f}\")"
   ]
  },
  {
   "attachments": {
    "image.png": {
     "image/png": "[encoded data removed]"
    }
   },
   "cell_type": "markdown",
   "id": "737b4d28",
   "metadata": {},
   "source": [
    "![image.png](attachment:image.png)"
   ]
  }
 ],
 "metadata": {
  "kernelspec": {
   "display_name": "Python 3",
   "language": "python",
   "name": "python3"
  },
  "language_info": {
   "codemirror_mode": {
    "name": "ipython",
    "version": 3
   },
   "file_extension": ".py",
   "mimetype": "text/x-python",
   "name": "python",
   "nbconvert_exporter": "python",
   "pygments_lexer": "ipython3",
   "version": "3.13.3"
  }
 },
 "nbformat": 4,
 "nbformat_minor": 5
}
